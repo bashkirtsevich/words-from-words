{
 "cells": [
  {
   "cell_type": "markdown",
   "metadata": {},
   "source": [
    "# “Words from words” game"
   ]
  },
  {
   "cell_type": "markdown",
   "metadata": {},
   "source": [
    "## The “Regular Expression”"
   ]
  },
  {
   "cell_type": "markdown",
   "metadata": {},
   "source": [
    "### RegEx Maker"
   ]
  },
  {
   "cell_type": "code",
   "execution_count": 1,
   "metadata": {},
   "outputs": [],
   "source": [
    "from itertools import groupby\n",
    "\n",
    "def make_wfw_regex(word):\n",
    "    return \"^{}[{}]+$\".format(\n",
    "        \"\".join(\n",
    "            \"(?!(.*{}){{{}}})\".format(char, freq) \n",
    "            for char, freq in map(\n",
    "                lambda item: (\n",
    "                    item[0], \n",
    "                    sum(1 for _ in item[1]) + 1\n",
    "                ), \n",
    "                groupby(sorted(word))\n",
    "            )\n",
    "        ),\n",
    "        \"\".join(set(word))\n",
    "    )"
   ]
  },
  {
   "cell_type": "markdown",
   "metadata": {},
   "source": [
    "### Words searcher"
   ]
  },
  {
   "cell_type": "code",
   "execution_count": 2,
   "metadata": {},
   "outputs": [],
   "source": [
    "import re\n",
    "\n",
    "def make_words_filter(parent_word):\n",
    "    pattern = re.compile(make_wfw_regex(parent_word))\n",
    "    return lambda word: word != parent_word and pattern.match(word)\n",
    "\n",
    "def find_word_combinations(words_dict, *words):\n",
    "    return map(\n",
    "        lambda word: (\n",
    "            word,\n",
    "            filter(\n",
    "                make_words_filter(word), \n",
    "                words_dict\n",
    "            )\n",
    "        ),\n",
    "        words\n",
    "    )"
   ]
  },
  {
   "cell_type": "markdown",
   "metadata": {},
   "source": [
    "----"
   ]
  },
  {
   "cell_type": "markdown",
   "metadata": {},
   "source": [
    "## The “Dictionary”"
   ]
  },
  {
   "cell_type": "markdown",
   "metadata": {},
   "source": [
    "### Dict structure\n",
    "\n",
    "Format: `csv`/`sql-table`\n",
    "\n",
    "Fields:\n",
    "* `index` — int, primary key\n",
    "* `word` — string, the word\n",
    "* `solution_count` — int, count of possible solutions based on the same dict\n",
    "\n",
    "CSV file looks like:\n",
    "\n",
    "index|word|solution_count\n",
    "-----|-----|-----\n",
    "0|абажур|10\n",
    "1|абаз|1\n",
    "2|абазин|5\n",
    "3|абазинка|15\n",
    "4|абака|0\n",
    "5|аббат|0\n",
    "6|аббатиса|6\n",
    "7|аббатисса|7\n",
    "8|аббатство|14\n",
    "9|аббревиатура|50"
   ]
  },
  {
   "cell_type": "markdown",
   "metadata": {},
   "source": [
    "### Converter"
   ]
  },
  {
   "cell_type": "markdown",
   "metadata": {},
   "source": [
    "Words list loader:"
   ]
  },
  {
   "cell_type": "code",
   "execution_count": null,
   "metadata": {},
   "outputs": [],
   "source": [
    "import codecs\n",
    "\n",
    "def load_words(dict_path):\n",
    "    with codecs.open(dict_path, encoding=\"utf-8\") as fp:\n",
    "        return fp.read().splitlines()"
   ]
  },
  {
   "cell_type": "markdown",
   "metadata": {},
   "source": [
    "Dict converter with ansvers counting:"
   ]
  },
  {
   "cell_type": "code",
   "execution_count": null,
   "metadata": {},
   "outputs": [],
   "source": [
    "import pandas as pd\n",
    "\n",
    "def calc_solutions_count(words_dict):\n",
    "    return pd.DataFrame(\n",
    "         [(word, sum(1 for _ in words)) \n",
    "          for word, words in find_word_combinations(\n",
    "              words_dict,\n",
    "              *words_dict\n",
    "          )],\n",
    "        columns=[\"word\", \"solution_count\"]\n",
    "    )"
   ]
  },
  {
   "cell_type": "markdown",
   "metadata": {},
   "source": [
    "Convert words list to csv with wolutions count:"
   ]
  },
  {
   "cell_type": "code",
   "execution_count": null,
   "metadata": {},
   "outputs": [],
   "source": [
    "calc_solutions_count(load_words(\"rus-nouns.txt\")).to_csv(\"wfw-words.csv\")"
   ]
  },
  {
   "cell_type": "markdown",
   "metadata": {},
   "source": [
    "### Dict manipulations"
   ]
  },
  {
   "cell_type": "markdown",
   "metadata": {},
   "source": [
    "#### Loading"
   ]
  },
  {
   "cell_type": "code",
   "execution_count": 3,
   "metadata": {},
   "outputs": [],
   "source": [
    "import pandas as pd\n",
    "\n",
    "WORDS_DICT_PATH = \"wfw-words.csv\"\n",
    "\n",
    "def load_dict(dict_path=WORDS_DICT_PATH):\n",
    "    df = pd.read_csv(WORDS_DICT_PATH)\n",
    "    df.set_index([\"word\"])\n",
    "    return df"
   ]
  },
  {
   "cell_type": "markdown",
   "metadata": {},
   "source": [
    "#### Select words"
   ]
  },
  {
   "cell_type": "code",
   "execution_count": 4,
   "metadata": {},
   "outputs": [],
   "source": [
    "def select_by_solution_range(words_dict, solutions_range):\n",
    "    df = words_dict[\n",
    "        words_dict[\n",
    "            \"solution_count\"\n",
    "        ].isin(\n",
    "            solutions_range\n",
    "        )\n",
    "    ].sample(n=1)\n",
    "    \n",
    "    return df.values[0][1:]"
   ]
  },
  {
   "cell_type": "code",
   "execution_count": 5,
   "metadata": {},
   "outputs": [],
   "source": [
    "def has_word(words_dict, *word):\n",
    "    return words_dict[words_dict[\"word\"].isin(word)].shape[0]"
   ]
  },
  {
   "cell_type": "code",
   "execution_count": 6,
   "metadata": {},
   "outputs": [],
   "source": [
    "def has_solution(words_dict, word, answer):\n",
    "    return any(\n",
    "        any(answer == solution for solution in words)\n",
    "        for _, words in find_word_combinations(\n",
    "            words_dict[\"word\"],\n",
    "            word\n",
    "        )\n",
    "    )"
   ]
  },
  {
   "cell_type": "markdown",
   "metadata": {},
   "source": [
    "----"
   ]
  },
  {
   "cell_type": "markdown",
   "metadata": {},
   "source": [
    "## Gameplay"
   ]
  },
  {
   "cell_type": "markdown",
   "metadata": {},
   "source": [
    "### Game levels"
   ]
  },
  {
   "cell_type": "code",
   "execution_count": 7,
   "metadata": {},
   "outputs": [],
   "source": [
    "def get_levels():\n",
    "    return zip(\n",
    "        [10, 20, 35, 50, 100, 5000], \n",
    "        [\"very easy\", \"easy\", \"normal\", \"hard\", \"very hard\", \"insane\"]\n",
    "    )"
   ]
  },
  {
   "cell_type": "markdown",
   "metadata": {},
   "source": [
    "* Levels:\n",
    "  ```json\n",
    "  [(10, 'very easy'),\n",
    "   (20, 'easy'),\n",
    "   (35, 'normal'),\n",
    "   (50, 'hard'),\n",
    "   (100, 'very hard'),\n",
    "   (5000, 'insane')]\n",
    "  ```"
   ]
  },
  {
   "cell_type": "markdown",
   "metadata": {},
   "source": [
    "### Session"
   ]
  },
  {
   "cell_type": "code",
   "execution_count": 8,
   "metadata": {},
   "outputs": [],
   "source": [
    "from itertools import islice\n",
    "\n",
    "def get_level_solutions_range(levels, level_idx):\n",
    "    return next(islice(\n",
    "        map(\n",
    "            lambda item: (item[1][0], item[0][0]),\n",
    "            zip(levels[1:], levels), \n",
    "        ),\n",
    "        level_idx, \n",
    "        level_idx + 1\n",
    "    ))"
   ]
  },
  {
   "cell_type": "code",
   "execution_count": 9,
   "metadata": {},
   "outputs": [],
   "source": [
    "def new_session(words_dict, levels, difficult_level):\n",
    "    return {\n",
    "       \"game\": dict(\n",
    "           zip(\n",
    "               [\"word\", \"solutions\"],\n",
    "               select_by_solution_range(\n",
    "                   words_dict, \n",
    "                   range(*get_level_solutions_range(levels, 0))\n",
    "               )\n",
    "           )\n",
    "        ),\n",
    "        \"answers\": []\n",
    "    }"
   ]
  },
  {
   "cell_type": "markdown",
   "metadata": {},
   "source": [
    "* Session:\n",
    "```json\n",
    "{'answers': [],\n",
    " 'game': {\n",
    "     'solutions': 13, \n",
    "     'word': 'выгонщик'\n",
    " }}\n",
    "```"
   ]
  },
  {
   "cell_type": "code",
   "execution_count": 10,
   "metadata": {},
   "outputs": [],
   "source": [
    "def answer(words_dict, session, answer):\n",
    "    if not has_word(words_dict, answer):\n",
    "        return \"Unknown word '{}'\".format(answer)\n",
    "    elif answer in session[\"answers\"]:\n",
    "        return \"Word '{}' already solved\".format(answer)\n",
    "    elif not has_solution(words_dict, session[\"game\"][\"word\"], answer):\n",
    "        return \"Invalid solution '{}'\".format(answer)\n",
    "    else:\n",
    "        session[\"answers\"].append(answer)"
   ]
  },
  {
   "cell_type": "code",
   "execution_count": 11,
   "metadata": {},
   "outputs": [],
   "source": [
    "def is_end_game(session):\n",
    "    return len(session[\"answers\"]) == session[\"game\"][\"solutions\"]"
   ]
  },
  {
   "cell_type": "markdown",
   "metadata": {},
   "source": [
    "----"
   ]
  },
  {
   "cell_type": "markdown",
   "metadata": {},
   "source": [
    "## The “Demo”"
   ]
  },
  {
   "cell_type": "code",
   "execution_count": 12,
   "metadata": {},
   "outputs": [
    {
     "name": "stdout",
     "output_type": "stream",
     "text": [
      "Current word: выгонщик\n",
      "Answering: виг\n",
      "Is endgame: False\n",
      "Answering: вино\n",
      "Is endgame: False\n",
      "Answering: воин\n",
      "Is endgame: False\n",
      "Answering: выгон\n",
      "Is endgame: False\n",
      "Answering: гон\n",
      "Is endgame: False\n",
      "Answering: гонщик\n",
      "Is endgame: False\n",
      "Answering: иго\n",
      "Is endgame: False\n",
      "Answering: инок\n",
      "Is endgame: False\n",
      "Answering: ион\n",
      "Is endgame: False\n",
      "Answering: ков\n",
      "Is endgame: False\n",
      "Answering: кон\n",
      "Is endgame: False\n",
      "Answering: нок\n",
      "Is endgame: False\n",
      "Answering: овин\n",
      "Is endgame: True\n"
     ]
    }
   ],
   "source": [
    "words_dict = load_dict()\n",
    "\n",
    "levels = list(get_levels())\n",
    "\n",
    "session = new_session(words_dict, levels, 1)\n",
    "\n",
    "print(\"Current word:\", session[\"game\"][\"word\"])\n",
    "\n",
    "for _, words in find_word_combinations(\n",
    "            words_dict[\"word\"],\n",
    "            session[\"game\"][\"word\"]\n",
    "        ):\n",
    "    for word in words:\n",
    "        print(\"Answering:\", word)\n",
    "        answer(words_dict, session, word)\n",
    "        print(\"Is endgame:\", is_end_game(session))"
   ]
  }
 ],
 "metadata": {
  "kernelspec": {
   "display_name": "Python 3",
   "language": "python",
   "name": "python3"
  },
  "language_info": {
   "codemirror_mode": {
    "name": "ipython",
    "version": 3
   },
   "file_extension": ".py",
   "mimetype": "text/x-python",
   "name": "python",
   "nbconvert_exporter": "python",
   "pygments_lexer": "ipython3",
   "version": "3.6.3"
  }
 },
 "nbformat": 4,
 "nbformat_minor": 2
}
